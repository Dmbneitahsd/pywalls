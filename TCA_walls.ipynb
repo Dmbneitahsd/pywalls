{
 "cells": [
  {
   "cell_type": "markdown",
   "metadata": {},
   "source": [
    "Imports and setting up static constants we need later"
   ]
  },
  {
   "cell_type": "code",
   "execution_count": 1,
   "metadata": {},
   "outputs": [],
   "source": [
    "#!/usr/bin/python\n",
    "from __future__ import division\n",
    "import requests\n",
    "from bs4 import BeautifulSoup\n",
    "import re\n",
    "import json\n",
    "from datetime import datetime\n",
    "\n",
    "#static business for the counters\n",
    "RGPcounterurls=\"d0f355e237dda999f3112d94d3c762c7\" # TCA\n",
    "                \n",
    "\n",
    "#different walls implement counters in different ways\n",
    "#verticallifeurls=[\"https://gyms.vertical-life.info/en/the-climbing-works/counter\"]                \n",
    "#Edenrockurls=[\"https://wallmarket.herokuapp.com/eden-rock-edinburgh/entries\"]\n",
    "\n",
    "#let's have a list of the ones that are in the same place for convenient sorting/iterating purposes\n",
    "cities={\"Sheffield\":[\"Awesome Walls Sheffield\",\"Foundry\",\"Depot Climbing Sheffield\"],\n",
    "        \"Leeds\":[\"Big Depot Leeds\",\"Depot Leeds (Pudsey)\"],\n",
    "        \"Manchester\":[\"Manchester Climbing Centre\",\"Awesome Walls Stockport\",\"Depot Manchester\"],\n",
    "        \"London\":[\"CroyWall\",\"Here Yonder\",\"VauxWall East\",\"HarroWall\",\"RavensWall\",\"VauxWall West\",\"CanaryWall\"],\n",
    "        \"Bristol\":[\"The Church\",\"The Mothership\"],\n",
    "        \"Glasgow\":[\"The Prop Store\",\"The Newsroom\"]\n",
    "    }\n",
    "\n",
    "urlstart=\"https://portal.rockgympro.com/portal/public/\"\n",
    "urlend=\"/occupancy\"\n",
    "\n",
    "walls={}"
   ]
  },
  {
   "cell_type": "markdown",
   "metadata": {},
   "source": [
    "functions"
   ]
  },
  {
   "cell_type": "code",
   "execution_count": 2,
   "metadata": {},
   "outputs": [],
   "source": [
    "class Wall:\n",
    "    def __init__(self, fname):\n",
    "        self.fancyname=\"fname\"  #name of wall\n",
    "        self.identifier=\"ident\" #3-letter identifier\n",
    "        self.capacity=\"\"        #capacity\n",
    "        self.lastupdated=\"\"     #last update string\n",
    "        self.count=\"\"           #the prize\n",
    "        self.subLabel=\"\"        #because it's there\n",
    "        self.city=\"\"            #filled only if it's in the list above\n",
    "\n",
    "    def barcolour(self): #return red, amber, or green\n",
    "        if self.capacity==0:\n",
    "            return(0) #dodge div/0 error\n",
    "        \n",
    "        fullness=100*int(self.count)/int(self.capacity)\n",
    "        if fullness < 30:\n",
    "            return(\"#238823\")\n",
    "        if fullness > 30 and fullness < 80:\n",
    "            return(\"#FFBF00\")\n",
    "        if fullness > 80:\n",
    "            return(\"#D2222D\")\n",
    "        return(\"#000000\")"
   ]
  },
  {
   "cell_type": "markdown",
   "metadata": {},
   "source": [
    "Go to the site and get the data, display it in a sensible format"
   ]
  },
  {
   "cell_type": "code",
   "execution_count": 3,
   "metadata": {},
   "outputs": [
    {
     "name": "stdout",
     "output_type": "stream",
     "text": [
      "getting https://portal.rockgympro.com/portal/public/d0f355e237dda999f3112d94d3c762c7/occupancy\n",
      " None\n",
      "UNC None\n",
      "BRI None\n",
      "GLA None\n",
      "PST None\n"
     ]
    }
   ],
   "source": [
    "newwallids={}\n",
    "geturl=urlstart+RGPcounterurls+urlend\n",
    "print(\"getting \"+geturl)\n",
    "    \n",
    "#visit the page and fetch the data for munging\n",
    "page = requests.get(geturl).text\n",
    "\n",
    "#timestamp\n",
    "today = datetime.now()\n",
    "timestamp = {\"timechecked\" : str(today)}\n",
    "\n",
    "#read that data in\n",
    "soup=BeautifulSoup(page, 'html.parser')\n",
    "\n",
    "for opt in soup.find_all('option'):\n",
    "    print(opt.get('value'), opt.get('text'))"
   ]
  },
  {
   "cell_type": "code",
   "execution_count": 4,
   "metadata": {},
   "outputs": [
    {
     "name": "stdout",
     "output_type": "stream",
     "text": [
      "{'BRI': {'capacity': 115, 'count': 27, 'subLabel': 'Current climber count', 'lastUpdate': 'Last updated:&nbsp2 mins ago (2:44 PM)'}, 'UNC': {'capacity': 50, 'count': 0, 'subLabel': 'Current climber count', 'lastUpdate': 'Last updated:&nbspnow(2:45 PM)'}, 'GLA': {'capacity': 100, 'count': 0, 'subLabel': 'Current Occupancy', 'lastUpdate': 'Last updated:&nbsp6 mins ago (2:40 PM)'}, 'PST': {'capacity': 80, 'count': 0, 'subLabel': 'Current Occupancy', 'lastUpdate': 'Last updated:&nbsp6 mins ago (2:40 PM)'}, 'timechecked': '2020-08-10 14:46:27.106933'}\n"
     ]
    }
   ],
   "source": [
    "#find all the scripts on the page\n",
    "for dat in soup.find_all('script'):\n",
    "    #look for the one we are interested in\n",
    "    #define the regex to only match the bit which is useful\n",
    "    regex = r\"var data(.*)},    };\"\n",
    "    #change the object into a string for searching\n",
    "    usefulbits = str(dat)\n",
    "    \n",
    "    #just pull out the bit we need\n",
    "    matches = re.search(regex, usefulbits, re.DOTALL | re.IGNORECASE)\n",
    "    if matches:\n",
    "        datastr=matches.group(0).replace(\"var data = \",\"\")\n",
    "        datastr=datastr.replace(\"\\n\", \"\")\n",
    "        datastr=datastr.replace(\"  \", \"\")\n",
    "        datastr=datastr.replace(\"\\'\", \"\\\"\")\n",
    "        datastr=datastr.replace(\"},};\", \"}}\") \n",
    "        \n",
    "        jsondata = json.loads(datastr)\n",
    "        jsondata.update(timestamp)\n",
    "        \n",
    "print(jsondata)"
   ]
  },
  {
   "cell_type": "code",
   "execution_count": 5,
   "metadata": {},
   "outputs": [
    {
     "name": "stdout",
     "output_type": "stream",
     "text": [
      "{\n",
      "    \"BRI\": {\n",
      "        \"capacity\": 115,\n",
      "        \"count\": 27,\n",
      "        \"lastUpdate\": \"Last updated:&nbsp2 mins ago (2:44 PM)\",\n",
      "        \"subLabel\": \"Current climber count\"\n",
      "    },\n",
      "    \"GLA\": {\n",
      "        \"capacity\": 100,\n",
      "        \"count\": 0,\n",
      "        \"lastUpdate\": \"Last updated:&nbsp6 mins ago (2:40 PM)\",\n",
      "        \"subLabel\": \"Current Occupancy\"\n",
      "    },\n",
      "    \"PST\": {\n",
      "        \"capacity\": 80,\n",
      "        \"count\": 0,\n",
      "        \"lastUpdate\": \"Last updated:&nbsp6 mins ago (2:40 PM)\",\n",
      "        \"subLabel\": \"Current Occupancy\"\n",
      "    },\n",
      "    \"UNC\": {\n",
      "        \"capacity\": 50,\n",
      "        \"count\": 0,\n",
      "        \"lastUpdate\": \"Last updated:&nbspnow(2:45 PM)\",\n",
      "        \"subLabel\": \"Current climber count\"\n",
      "    },\n",
      "    \"timechecked\": \"2020-08-10 14:46:27.106933\"\n",
      "}\n"
     ]
    }
   ],
   "source": [
    "print(json.dumps(jsondata, indent=4, sort_keys=True))"
   ]
  },
  {
   "cell_type": "code",
   "execution_count": 9,
   "metadata": {},
   "outputs": [
    {
     "ename": "AttributeError",
     "evalue": "'dict' object has no attribute 'tell'",
     "output_type": "error",
     "traceback": [
      "\u001b[0;31m---------------------------------------------------------------------------\u001b[0m",
      "\u001b[0;31mAttributeError\u001b[0m                            Traceback (most recent call last)",
      "\u001b[0;32m<ipython-input-9-f515acdc7040>\u001b[0m in \u001b[0;36m<module>\u001b[0;34m\u001b[0m\n\u001b[1;32m     17\u001b[0m     \u001b[0mjsondata\u001b[0m\u001b[0;34m,\u001b[0m\u001b[0;34m\u001b[0m\u001b[0;34m\u001b[0m\u001b[0m\n\u001b[1;32m     18\u001b[0m     \u001b[0mtable_ref\u001b[0m\u001b[0;34m,\u001b[0m\u001b[0;34m\u001b[0m\u001b[0;34m\u001b[0m\u001b[0m\n\u001b[0;32m---> 19\u001b[0;31m     \u001b[0mjob_config\u001b[0m\u001b[0;34m=\u001b[0m\u001b[0mjob_config\u001b[0m\u001b[0;34m,\u001b[0m\u001b[0;34m\u001b[0m\u001b[0;34m\u001b[0m\u001b[0m\n\u001b[0m\u001b[1;32m     20\u001b[0m )\n\u001b[1;32m     21\u001b[0m \u001b[0;34m\u001b[0m\u001b[0m\n",
      "\u001b[0;32m/usr/local/lib/python3.7/site-packages/google/cloud/bigquery/client.py\u001b[0m in \u001b[0;36mload_table_from_file\u001b[0;34m(self, file_obj, destination, rewind, size, num_retries, job_id, job_id_prefix, location, project, job_config)\u001b[0m\n\u001b[1;32m   1767\u001b[0m             \u001b[0;32mif\u001b[0m \u001b[0msize\u001b[0m \u001b[0;32mis\u001b[0m \u001b[0;32mNone\u001b[0m \u001b[0;32mor\u001b[0m \u001b[0msize\u001b[0m \u001b[0;34m>=\u001b[0m \u001b[0m_MAX_MULTIPART_SIZE\u001b[0m\u001b[0;34m:\u001b[0m\u001b[0;34m\u001b[0m\u001b[0;34m\u001b[0m\u001b[0m\n\u001b[1;32m   1768\u001b[0m                 response = self._do_resumable_upload(\n\u001b[0;32m-> 1769\u001b[0;31m                     \u001b[0mfile_obj\u001b[0m\u001b[0;34m,\u001b[0m \u001b[0mjob_resource\u001b[0m\u001b[0;34m,\u001b[0m \u001b[0mnum_retries\u001b[0m\u001b[0;34m\u001b[0m\u001b[0;34m\u001b[0m\u001b[0m\n\u001b[0m\u001b[1;32m   1770\u001b[0m                 )\n\u001b[1;32m   1771\u001b[0m             \u001b[0;32melse\u001b[0m\u001b[0;34m:\u001b[0m\u001b[0;34m\u001b[0m\u001b[0;34m\u001b[0m\u001b[0m\n",
      "\u001b[0;32m/usr/local/lib/python3.7/site-packages/google/cloud/bigquery/client.py\u001b[0m in \u001b[0;36m_do_resumable_upload\u001b[0;34m(self, stream, metadata, num_retries)\u001b[0m\n\u001b[1;32m   2091\u001b[0m         \"\"\"\n\u001b[1;32m   2092\u001b[0m         upload, transport = self._initiate_resumable_upload(\n\u001b[0;32m-> 2093\u001b[0;31m             \u001b[0mstream\u001b[0m\u001b[0;34m,\u001b[0m \u001b[0mmetadata\u001b[0m\u001b[0;34m,\u001b[0m \u001b[0mnum_retries\u001b[0m\u001b[0;34m\u001b[0m\u001b[0;34m\u001b[0m\u001b[0m\n\u001b[0m\u001b[1;32m   2094\u001b[0m         )\n\u001b[1;32m   2095\u001b[0m \u001b[0;34m\u001b[0m\u001b[0m\n",
      "\u001b[0;32m/usr/local/lib/python3.7/site-packages/google/cloud/bigquery/client.py\u001b[0m in \u001b[0;36m_initiate_resumable_upload\u001b[0;34m(self, stream, metadata, num_retries)\u001b[0m\n\u001b[1;32m   2133\u001b[0m \u001b[0;34m\u001b[0m\u001b[0m\n\u001b[1;32m   2134\u001b[0m         upload.initiate(\n\u001b[0;32m-> 2135\u001b[0;31m             \u001b[0mtransport\u001b[0m\u001b[0;34m,\u001b[0m \u001b[0mstream\u001b[0m\u001b[0;34m,\u001b[0m \u001b[0mmetadata\u001b[0m\u001b[0;34m,\u001b[0m \u001b[0m_GENERIC_CONTENT_TYPE\u001b[0m\u001b[0;34m,\u001b[0m \u001b[0mstream_final\u001b[0m\u001b[0;34m=\u001b[0m\u001b[0;32mFalse\u001b[0m\u001b[0;34m\u001b[0m\u001b[0;34m\u001b[0m\u001b[0m\n\u001b[0m\u001b[1;32m   2136\u001b[0m         )\n\u001b[1;32m   2137\u001b[0m \u001b[0;34m\u001b[0m\u001b[0m\n",
      "\u001b[0;32m/usr/local/lib/python3.7/site-packages/google/resumable_media/requests/upload.py\u001b[0m in \u001b[0;36minitiate\u001b[0;34m(self, transport, stream, metadata, content_type, total_bytes, stream_final, timeout)\u001b[0m\n\u001b[1;32m    399\u001b[0m             \u001b[0mcontent_type\u001b[0m\u001b[0;34m,\u001b[0m\u001b[0;34m\u001b[0m\u001b[0;34m\u001b[0m\u001b[0m\n\u001b[1;32m    400\u001b[0m             \u001b[0mtotal_bytes\u001b[0m\u001b[0;34m=\u001b[0m\u001b[0mtotal_bytes\u001b[0m\u001b[0;34m,\u001b[0m\u001b[0;34m\u001b[0m\u001b[0;34m\u001b[0m\u001b[0m\n\u001b[0;32m--> 401\u001b[0;31m             \u001b[0mstream_final\u001b[0m\u001b[0;34m=\u001b[0m\u001b[0mstream_final\u001b[0m\u001b[0;34m,\u001b[0m\u001b[0;34m\u001b[0m\u001b[0;34m\u001b[0m\u001b[0m\n\u001b[0m\u001b[1;32m    402\u001b[0m         )\n\u001b[1;32m    403\u001b[0m         response = _request_helpers.http_request(\n",
      "\u001b[0;32m/usr/local/lib/python3.7/site-packages/google/resumable_media/_upload.py\u001b[0m in \u001b[0;36m_prepare_initiate_request\u001b[0;34m(self, stream, metadata, content_type, total_bytes, stream_final)\u001b[0m\n\u001b[1;32m    461\u001b[0m         \u001b[0;32mif\u001b[0m \u001b[0mself\u001b[0m\u001b[0;34m.\u001b[0m\u001b[0mresumable_url\u001b[0m \u001b[0;32mis\u001b[0m \u001b[0;32mnot\u001b[0m \u001b[0;32mNone\u001b[0m\u001b[0;34m:\u001b[0m\u001b[0;34m\u001b[0m\u001b[0;34m\u001b[0m\u001b[0m\n\u001b[1;32m    462\u001b[0m             \u001b[0;32mraise\u001b[0m \u001b[0mValueError\u001b[0m\u001b[0;34m(\u001b[0m\u001b[0;34mu\"This upload has already been initiated.\"\u001b[0m\u001b[0;34m)\u001b[0m\u001b[0;34m\u001b[0m\u001b[0;34m\u001b[0m\u001b[0m\n\u001b[0;32m--> 463\u001b[0;31m         \u001b[0;32mif\u001b[0m \u001b[0mstream\u001b[0m\u001b[0;34m.\u001b[0m\u001b[0mtell\u001b[0m\u001b[0;34m(\u001b[0m\u001b[0;34m)\u001b[0m \u001b[0;34m!=\u001b[0m \u001b[0;36m0\u001b[0m\u001b[0;34m:\u001b[0m\u001b[0;34m\u001b[0m\u001b[0;34m\u001b[0m\u001b[0m\n\u001b[0m\u001b[1;32m    464\u001b[0m             \u001b[0;32mraise\u001b[0m \u001b[0mValueError\u001b[0m\u001b[0;34m(\u001b[0m\u001b[0;34mu\"Stream must be at beginning.\"\u001b[0m\u001b[0;34m)\u001b[0m\u001b[0;34m\u001b[0m\u001b[0;34m\u001b[0m\u001b[0m\n\u001b[1;32m    465\u001b[0m \u001b[0;34m\u001b[0m\u001b[0m\n",
      "\u001b[0;31mAttributeError\u001b[0m: 'dict' object has no attribute 'tell'"
     ]
    }
   ],
   "source": [
    "from google.cloud import bigquery\n",
    "from google.oauth2 import service_account\n",
    "\n",
    "client = bigquery.Client()\n",
    "\n",
    "dataset_id = 'howfullismywall:walldata'\n",
    "table_id = 'howfullismywall:walldata.howfullismywall'\n",
    "\n",
    "dataset_ref = client.dataset(dataset_id)\n",
    "table_ref = dataset_ref.table(table_id)\n",
    "\n",
    "job_config = bigquery.LoadJobConfig()\n",
    "job_config.source_format = bigquery.SourceFormat.NEWLINE_DELIMITED_JSON\n",
    "job_config.autodetect = True\n",
    "\n",
    "job = client.load_table_from_file(\n",
    "    jsondata,\n",
    "    table_ref,\n",
    "    job_config=job_config,\n",
    ")\n",
    "\n",
    "job.result()\n",
    "\n",
    "print(\"loaded {} rows into {}:{}.\".format(job.output_rows, dataset_id, table_id))\n"
   ]
  }
 ],
 "metadata": {
  "kernelspec": {
   "display_name": "Python 3",
   "language": "python",
   "name": "python3"
  },
  "language_info": {
   "codemirror_mode": {
    "name": "ipython",
    "version": 3
   },
   "file_extension": ".py",
   "mimetype": "text/x-python",
   "name": "python",
   "nbconvert_exporter": "python",
   "pygments_lexer": "ipython3",
   "version": "3.7.7"
  }
 },
 "nbformat": 4,
 "nbformat_minor": 4
}
