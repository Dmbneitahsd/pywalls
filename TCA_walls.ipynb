{
 "cells": [
  {
   "cell_type": "markdown",
   "metadata": {},
   "source": [
    "Imports and setting up static constants we need later"
   ]
  },
  {
   "cell_type": "code",
   "execution_count": 1,
   "metadata": {},
   "outputs": [],
   "source": [
    "#!/usr/bin/python\n",
    "from __future__ import division\n",
    "import requests\n",
    "from bs4 import BeautifulSoup\n",
    "import re\n",
    "import json\n",
    "from datetime import datetime\n",
    "\n",
    "#static business for the counters\n",
    "RGPcounterurls=\"d0f355e237dda999f3112d94d3c762c7\" # TCA\n",
    "                \n",
    "\n",
    "#different walls implement counters in different ways\n",
    "#verticallifeurls=[\"https://gyms.vertical-life.info/en/the-climbing-works/counter\"]                \n",
    "#Edenrockurls=[\"https://wallmarket.herokuapp.com/eden-rock-edinburgh/entries\"]\n",
    "\n",
    "#let's have a list of the ones that are in the same place for convenient sorting/iterating purposes\n",
    "cities={\"Sheffield\":[\"Awesome Walls Sheffield\",\"Foundry\",\"Depot Climbing Sheffield\"],\n",
    "        \"Leeds\":[\"Big Depot Leeds\",\"Depot Leeds (Pudsey)\"],\n",
    "        \"Manchester\":[\"Manchester Climbing Centre\",\"Awesome Walls Stockport\",\"Depot Manchester\"],\n",
    "        \"London\":[\"CroyWall\",\"Here Yonder\",\"VauxWall East\",\"HarroWall\",\"RavensWall\",\"VauxWall West\",\"CanaryWall\"],\n",
    "        \"Bristol\":[\"The Church\",\"The Mothership\"],\n",
    "        \"Glasgow\":[\"The Prop Store\",\"The Newsroom\"]\n",
    "    }\n",
    "\n",
    "urlstart=\"https://portal.rockgympro.com/portal/public/\"\n",
    "urlend=\"/occupancy\"\n",
    "\n",
    "walls={}"
   ]
  },
  {
   "cell_type": "markdown",
   "metadata": {},
   "source": [
    "functions"
   ]
  },
  {
   "cell_type": "code",
   "execution_count": 2,
   "metadata": {},
   "outputs": [],
   "source": [
    "class Wall:\n",
    "    def __init__(self, fname):\n",
    "        self.fancyname=\"fname\"  #name of wall\n",
    "        self.identifier=\"ident\" #3-letter identifier\n",
    "        self.capacity=\"\"        #capacity\n",
    "        self.lastupdated=\"\"     #last update string\n",
    "        self.count=\"\"           #the prize\n",
    "        self.subLabel=\"\"        #because it's there\n",
    "        self.city=\"\"            #filled only if it's in the list above\n",
    "\n",
    "    def barcolour(self): #return red, amber, or green\n",
    "        if self.capacity==0:\n",
    "            return(0) #dodge div/0 error\n",
    "        \n",
    "        fullness=100*int(self.count)/int(self.capacity)\n",
    "        if fullness < 30:\n",
    "            return(\"#238823\")\n",
    "        if fullness > 30 and fullness < 80:\n",
    "            return(\"#FFBF00\")\n",
    "        if fullness > 80:\n",
    "            return(\"#D2222D\")\n",
    "        return(\"#000000\")"
   ]
  },
  {
   "cell_type": "markdown",
   "metadata": {},
   "source": [
    "Go to the site and get the data, display it in a sensible format"
   ]
  },
  {
   "cell_type": "code",
   "execution_count": 3,
   "metadata": {},
   "outputs": [
    {
     "name": "stdout",
     "output_type": "stream",
     "text": [
      "getting https://portal.rockgympro.com/portal/public/d0f355e237dda999f3112d94d3c762c7/occupancy\n",
      " None\n",
      "UNC None\n",
      "BRI None\n",
      "GLA None\n",
      "PST None\n"
     ]
    }
   ],
   "source": [
    "newwallids={}\n",
    "geturl=urlstart+RGPcounterurls+urlend\n",
    "print(\"getting \"+geturl)\n",
    "    \n",
    "#visit the page and fetch the data for munging\n",
    "page = requests.get(geturl).text\n",
    "\n",
    "#timestamp\n",
    "today = datetime.now()\n",
    "timestamp = {\"timechecked\" : str(today)}\n",
    "\n",
    "#read that data in\n",
    "soup=BeautifulSoup(page, 'html.parser')\n",
    "\n",
    "for opt in soup.find_all('option'):\n",
    "    print(opt.get('value'), opt.get('text'))"
   ]
  },
  {
   "cell_type": "code",
   "execution_count": 4,
   "metadata": {},
   "outputs": [
    {
     "name": "stdout",
     "output_type": "stream",
     "text": [
      "{'BRI': {'capacity': 115, 'count': 19, 'subLabel': 'Current climber count', 'lastUpdate': 'Last updated:&nbspnow(3:42 PM)'}, 'UNC': {'capacity': 50, 'count': 5, 'subLabel': 'Current climber count', 'lastUpdate': 'Last updated:&nbsp3 mins ago (3:40 PM)'}, 'GLA': {'capacity': 100, 'count': 0, 'subLabel': 'Current Occupancy', 'lastUpdate': 'Last updated:&nbsp3 mins ago (3:40 PM)'}, 'PST': {'capacity': 80, 'count': 0, 'subLabel': 'Current Occupancy', 'lastUpdate': 'Last updated:&nbsp2 mins ago (3:41 PM)'}, 'timechecked': '2020-08-12 15:43:01.961497'}\n"
     ]
    }
   ],
   "source": [
    "#find all the scripts on the page\n",
    "for dat in soup.find_all('script'):\n",
    "    #look for the one we are interested in\n",
    "    #define the regex to only match the bit which is useful\n",
    "    regex = r\"var data(.*)},    };\"\n",
    "    #change the object into a string for searching\n",
    "    usefulbits = str(dat)\n",
    "    \n",
    "    #just pull out the bit we need\n",
    "    matches = re.search(regex, usefulbits, re.DOTALL | re.IGNORECASE)\n",
    "    if matches:\n",
    "        datastr=matches.group(0).replace(\"var data = \",\"\")\n",
    "        datastr=datastr.replace(\"\\n\", \"\")\n",
    "        datastr=datastr.replace(\"  \", \"\")\n",
    "        datastr=datastr.replace(\"\\'\", \"\\\"\")\n",
    "        datastr=datastr.replace(\"},};\", \"}}\") \n",
    "        \n",
    "        jsondata = json.loads(datastr)\n",
    "        jsondata.update(timestamp)\n",
    "        \n",
    "print(jsondata)"
   ]
  },
  {
   "cell_type": "code",
   "execution_count": 5,
   "metadata": {},
   "outputs": [
    {
     "name": "stdout",
     "output_type": "stream",
     "text": [
      "{\n",
      "    \"BRI\": {\n",
      "        \"capacity\": 115,\n",
      "        \"count\": 19,\n",
      "        \"lastUpdate\": \"Last updated:&nbspnow(3:42 PM)\",\n",
      "        \"subLabel\": \"Current climber count\"\n",
      "    },\n",
      "    \"GLA\": {\n",
      "        \"capacity\": 100,\n",
      "        \"count\": 0,\n",
      "        \"lastUpdate\": \"Last updated:&nbsp3 mins ago (3:40 PM)\",\n",
      "        \"subLabel\": \"Current Occupancy\"\n",
      "    },\n",
      "    \"PST\": {\n",
      "        \"capacity\": 80,\n",
      "        \"count\": 0,\n",
      "        \"lastUpdate\": \"Last updated:&nbsp2 mins ago (3:41 PM)\",\n",
      "        \"subLabel\": \"Current Occupancy\"\n",
      "    },\n",
      "    \"UNC\": {\n",
      "        \"capacity\": 50,\n",
      "        \"count\": 5,\n",
      "        \"lastUpdate\": \"Last updated:&nbsp3 mins ago (3:40 PM)\",\n",
      "        \"subLabel\": \"Current climber count\"\n",
      "    },\n",
      "    \"timechecked\": \"2020-08-12 15:43:01.961497\"\n",
      "}\n"
     ]
    }
   ],
   "source": [
    "print(json.dumps(jsondata, indent=4, sort_keys=True))"
   ]
  },
  {
   "cell_type": "code",
   "execution_count": 6,
   "metadata": {},
   "outputs": [
    {
     "ename": "DefaultCredentialsError",
     "evalue": "Could not automatically determine credentials. Please set GOOGLE_APPLICATION_CREDENTIALS or explicitly create credentials and re-run the application. For more information, please see https://cloud.google.com/docs/authentication/getting-started",
     "output_type": "error",
     "traceback": [
      "\u001b[0;31m---------------------------------------------------------------------------\u001b[0m",
      "\u001b[0;31mDefaultCredentialsError\u001b[0m                   Traceback (most recent call last)",
      "\u001b[0;32m<ipython-input-6-f515acdc7040>\u001b[0m in \u001b[0;36m<module>\u001b[0;34m\u001b[0m\n\u001b[1;32m      2\u001b[0m \u001b[0;32mfrom\u001b[0m \u001b[0mgoogle\u001b[0m\u001b[0;34m.\u001b[0m\u001b[0moauth2\u001b[0m \u001b[0;32mimport\u001b[0m \u001b[0mservice_account\u001b[0m\u001b[0;34m\u001b[0m\u001b[0;34m\u001b[0m\u001b[0m\n\u001b[1;32m      3\u001b[0m \u001b[0;34m\u001b[0m\u001b[0m\n\u001b[0;32m----> 4\u001b[0;31m \u001b[0mclient\u001b[0m \u001b[0;34m=\u001b[0m \u001b[0mbigquery\u001b[0m\u001b[0;34m.\u001b[0m\u001b[0mClient\u001b[0m\u001b[0;34m(\u001b[0m\u001b[0;34m)\u001b[0m\u001b[0;34m\u001b[0m\u001b[0;34m\u001b[0m\u001b[0m\n\u001b[0m\u001b[1;32m      5\u001b[0m \u001b[0;34m\u001b[0m\u001b[0m\n\u001b[1;32m      6\u001b[0m \u001b[0mdataset_id\u001b[0m \u001b[0;34m=\u001b[0m \u001b[0;34m'howfullismywall:walldata'\u001b[0m\u001b[0;34m\u001b[0m\u001b[0;34m\u001b[0m\u001b[0m\n",
      "\u001b[0;32m/usr/local/lib/python3.7/site-packages/google/cloud/bigquery/client.py\u001b[0m in \u001b[0;36m__init__\u001b[0;34m(self, project, credentials, _http, location, default_query_job_config, client_info, client_options)\u001b[0m\n\u001b[1;32m    177\u001b[0m     ):\n\u001b[1;32m    178\u001b[0m         super(Client, self).__init__(\n\u001b[0;32m--> 179\u001b[0;31m             \u001b[0mproject\u001b[0m\u001b[0;34m=\u001b[0m\u001b[0mproject\u001b[0m\u001b[0;34m,\u001b[0m \u001b[0mcredentials\u001b[0m\u001b[0;34m=\u001b[0m\u001b[0mcredentials\u001b[0m\u001b[0;34m,\u001b[0m \u001b[0m_http\u001b[0m\u001b[0;34m=\u001b[0m\u001b[0m_http\u001b[0m\u001b[0;34m\u001b[0m\u001b[0;34m\u001b[0m\u001b[0m\n\u001b[0m\u001b[1;32m    180\u001b[0m         )\n\u001b[1;32m    181\u001b[0m \u001b[0;34m\u001b[0m\u001b[0m\n",
      "\u001b[0;32m/usr/local/lib/python3.7/site-packages/google/cloud/client.py\u001b[0m in \u001b[0;36m__init__\u001b[0;34m(self, project, credentials, _http)\u001b[0m\n\u001b[1;32m    224\u001b[0m \u001b[0;34m\u001b[0m\u001b[0m\n\u001b[1;32m    225\u001b[0m     \u001b[0;32mdef\u001b[0m \u001b[0m__init__\u001b[0m\u001b[0;34m(\u001b[0m\u001b[0mself\u001b[0m\u001b[0;34m,\u001b[0m \u001b[0mproject\u001b[0m\u001b[0;34m=\u001b[0m\u001b[0;32mNone\u001b[0m\u001b[0;34m,\u001b[0m \u001b[0mcredentials\u001b[0m\u001b[0;34m=\u001b[0m\u001b[0;32mNone\u001b[0m\u001b[0;34m,\u001b[0m \u001b[0m_http\u001b[0m\u001b[0;34m=\u001b[0m\u001b[0;32mNone\u001b[0m\u001b[0;34m)\u001b[0m\u001b[0;34m:\u001b[0m\u001b[0;34m\u001b[0m\u001b[0;34m\u001b[0m\u001b[0m\n\u001b[0;32m--> 226\u001b[0;31m         \u001b[0m_ClientProjectMixin\u001b[0m\u001b[0;34m.\u001b[0m\u001b[0m__init__\u001b[0m\u001b[0;34m(\u001b[0m\u001b[0mself\u001b[0m\u001b[0;34m,\u001b[0m \u001b[0mproject\u001b[0m\u001b[0;34m=\u001b[0m\u001b[0mproject\u001b[0m\u001b[0;34m)\u001b[0m\u001b[0;34m\u001b[0m\u001b[0;34m\u001b[0m\u001b[0m\n\u001b[0m\u001b[1;32m    227\u001b[0m         \u001b[0mClient\u001b[0m\u001b[0;34m.\u001b[0m\u001b[0m__init__\u001b[0m\u001b[0;34m(\u001b[0m\u001b[0mself\u001b[0m\u001b[0;34m,\u001b[0m \u001b[0mcredentials\u001b[0m\u001b[0;34m=\u001b[0m\u001b[0mcredentials\u001b[0m\u001b[0;34m,\u001b[0m \u001b[0m_http\u001b[0m\u001b[0;34m=\u001b[0m\u001b[0m_http\u001b[0m\u001b[0;34m)\u001b[0m\u001b[0;34m\u001b[0m\u001b[0;34m\u001b[0m\u001b[0m\n",
      "\u001b[0;32m/usr/local/lib/python3.7/site-packages/google/cloud/client.py\u001b[0m in \u001b[0;36m__init__\u001b[0;34m(self, project)\u001b[0m\n\u001b[1;32m    176\u001b[0m \u001b[0;34m\u001b[0m\u001b[0m\n\u001b[1;32m    177\u001b[0m     \u001b[0;32mdef\u001b[0m \u001b[0m__init__\u001b[0m\u001b[0;34m(\u001b[0m\u001b[0mself\u001b[0m\u001b[0;34m,\u001b[0m \u001b[0mproject\u001b[0m\u001b[0;34m=\u001b[0m\u001b[0;32mNone\u001b[0m\u001b[0;34m)\u001b[0m\u001b[0;34m:\u001b[0m\u001b[0;34m\u001b[0m\u001b[0;34m\u001b[0m\u001b[0m\n\u001b[0;32m--> 178\u001b[0;31m         \u001b[0mproject\u001b[0m \u001b[0;34m=\u001b[0m \u001b[0mself\u001b[0m\u001b[0;34m.\u001b[0m\u001b[0m_determine_default\u001b[0m\u001b[0;34m(\u001b[0m\u001b[0mproject\u001b[0m\u001b[0;34m)\u001b[0m\u001b[0;34m\u001b[0m\u001b[0;34m\u001b[0m\u001b[0m\n\u001b[0m\u001b[1;32m    179\u001b[0m         \u001b[0;32mif\u001b[0m \u001b[0mproject\u001b[0m \u001b[0;32mis\u001b[0m \u001b[0;32mNone\u001b[0m\u001b[0;34m:\u001b[0m\u001b[0;34m\u001b[0m\u001b[0;34m\u001b[0m\u001b[0m\n\u001b[1;32m    180\u001b[0m             raise EnvironmentError(\n",
      "\u001b[0;32m/usr/local/lib/python3.7/site-packages/google/cloud/client.py\u001b[0m in \u001b[0;36m_determine_default\u001b[0;34m(project)\u001b[0m\n\u001b[1;32m    191\u001b[0m     \u001b[0;32mdef\u001b[0m \u001b[0m_determine_default\u001b[0m\u001b[0;34m(\u001b[0m\u001b[0mproject\u001b[0m\u001b[0;34m)\u001b[0m\u001b[0;34m:\u001b[0m\u001b[0;34m\u001b[0m\u001b[0;34m\u001b[0m\u001b[0m\n\u001b[1;32m    192\u001b[0m         \u001b[0;34m\"\"\"Helper:  use default project detection.\"\"\"\u001b[0m\u001b[0;34m\u001b[0m\u001b[0;34m\u001b[0m\u001b[0m\n\u001b[0;32m--> 193\u001b[0;31m         \u001b[0;32mreturn\u001b[0m \u001b[0m_determine_default_project\u001b[0m\u001b[0;34m(\u001b[0m\u001b[0mproject\u001b[0m\u001b[0;34m)\u001b[0m\u001b[0;34m\u001b[0m\u001b[0;34m\u001b[0m\u001b[0m\n\u001b[0m\u001b[1;32m    194\u001b[0m \u001b[0;34m\u001b[0m\u001b[0m\n\u001b[1;32m    195\u001b[0m \u001b[0;34m\u001b[0m\u001b[0m\n",
      "\u001b[0;32m/usr/local/lib/python3.7/site-packages/google/cloud/_helpers.py\u001b[0m in \u001b[0;36m_determine_default_project\u001b[0;34m(project)\u001b[0m\n\u001b[1;32m    184\u001b[0m     \"\"\"\n\u001b[1;32m    185\u001b[0m     \u001b[0;32mif\u001b[0m \u001b[0mproject\u001b[0m \u001b[0;32mis\u001b[0m \u001b[0;32mNone\u001b[0m\u001b[0;34m:\u001b[0m\u001b[0;34m\u001b[0m\u001b[0;34m\u001b[0m\u001b[0m\n\u001b[0;32m--> 186\u001b[0;31m         \u001b[0m_\u001b[0m\u001b[0;34m,\u001b[0m \u001b[0mproject\u001b[0m \u001b[0;34m=\u001b[0m \u001b[0mgoogle\u001b[0m\u001b[0;34m.\u001b[0m\u001b[0mauth\u001b[0m\u001b[0;34m.\u001b[0m\u001b[0mdefault\u001b[0m\u001b[0;34m(\u001b[0m\u001b[0;34m)\u001b[0m\u001b[0;34m\u001b[0m\u001b[0;34m\u001b[0m\u001b[0m\n\u001b[0m\u001b[1;32m    187\u001b[0m     \u001b[0;32mreturn\u001b[0m \u001b[0mproject\u001b[0m\u001b[0;34m\u001b[0m\u001b[0;34m\u001b[0m\u001b[0m\n\u001b[1;32m    188\u001b[0m \u001b[0;34m\u001b[0m\u001b[0m\n",
      "\u001b[0;32m/usr/local/lib/python3.7/site-packages/google/auth/_default.py\u001b[0m in \u001b[0;36mdefault\u001b[0;34m(scopes, request)\u001b[0m\n\u001b[1;32m    326\u001b[0m             \u001b[0;32mreturn\u001b[0m \u001b[0mcredentials\u001b[0m\u001b[0;34m,\u001b[0m \u001b[0meffective_project_id\u001b[0m\u001b[0;34m\u001b[0m\u001b[0;34m\u001b[0m\u001b[0m\n\u001b[1;32m    327\u001b[0m \u001b[0;34m\u001b[0m\u001b[0m\n\u001b[0;32m--> 328\u001b[0;31m     \u001b[0;32mraise\u001b[0m \u001b[0mexceptions\u001b[0m\u001b[0;34m.\u001b[0m\u001b[0mDefaultCredentialsError\u001b[0m\u001b[0;34m(\u001b[0m\u001b[0m_HELP_MESSAGE\u001b[0m\u001b[0;34m)\u001b[0m\u001b[0;34m\u001b[0m\u001b[0;34m\u001b[0m\u001b[0m\n\u001b[0m",
      "\u001b[0;31mDefaultCredentialsError\u001b[0m: Could not automatically determine credentials. Please set GOOGLE_APPLICATION_CREDENTIALS or explicitly create credentials and re-run the application. For more information, please see https://cloud.google.com/docs/authentication/getting-started"
     ]
    }
   ],
   "source": [
    "from google.cloud import bigquery\n",
    "from google.oauth2 import service_account\n",
    "\n",
    "client = bigquery.Client()\n",
    "\n",
    "dataset_id = 'howfullismywall:walldata'\n",
    "table_id = 'howfullismywall:walldata.howfullismywall'\n",
    "\n",
    "dataset_ref = client.dataset(dataset_id)\n",
    "table_ref = dataset_ref.table(table_id)\n",
    "\n",
    "job_config = bigquery.LoadJobConfig()\n",
    "job_config.source_format = bigquery.SourceFormat.NEWLINE_DELIMITED_JSON\n",
    "job_config.autodetect = True\n",
    "\n",
    "job = client.load_table_from_file(\n",
    "    jsondata,\n",
    "    table_ref,\n",
    "    job_config=job_config,\n",
    ")\n",
    "\n",
    "job.result()\n",
    "\n",
    "print(\"loaded {} rows into {}:{}.\".format(job.output_rows, dataset_id, table_id))\n"
   ]
  },
  {
   "cell_type": "code",
   "execution_count": 7,
   "metadata": {},
   "outputs": [],
   "source": [
    "!export GOOGLE_APPLICATION_CREDENTIALS=/Users/a344348/Downloads/howfullismywall-284248362156.json"
   ]
  },
  {
   "cell_type": "code",
   "execution_count": 8,
   "metadata": {},
   "outputs": [
    {
     "name": "stdout",
     "output_type": "stream",
     "text": [
      "\r\n"
     ]
    }
   ],
   "source": [
    "!echo $GOOGLE_APPLICATION_CREDENTIALS"
   ]
  },
  {
   "cell_type": "code",
   "execution_count": null,
   "metadata": {},
   "outputs": [],
   "source": []
  }
 ],
 "metadata": {
  "kernelspec": {
   "display_name": "Python 3",
   "language": "python",
   "name": "python3"
  },
  "language_info": {
   "codemirror_mode": {
    "name": "ipython",
    "version": 3
   },
   "file_extension": ".py",
   "mimetype": "text/x-python",
   "name": "python",
   "nbconvert_exporter": "python",
   "pygments_lexer": "ipython3",
   "version": "3.7.7"
  }
 },
 "nbformat": 4,
 "nbformat_minor": 4
}
